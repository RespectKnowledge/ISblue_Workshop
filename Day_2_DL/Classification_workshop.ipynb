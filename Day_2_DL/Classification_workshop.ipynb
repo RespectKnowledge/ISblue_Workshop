{
  "nbformat": 4,
  "nbformat_minor": 0,
  "metadata": {
    "colab": {
      "name": "Classification_workshop.ipynb",
      "provenance": [],
      "collapsed_sections": []
    },
    "kernelspec": {
      "name": "python3",
      "display_name": "Python 3"
    },
    "language_info": {
      "name": "python"
    },
    "accelerator": "GPU"
  },
  "cells": [
    {
      "cell_type": "code",
      "metadata": {
        "colab": {
          "base_uri": "https://localhost:8080/"
        },
        "id": "qb6Ymu7wUhqO",
        "outputId": "de816e9e-f11c-41cc-9769-ee075c6ecacb"
      },
      "source": [
        "from google.colab import drive\n",
        "drive.mount('/content/drive')"
      ],
      "execution_count": 1,
      "outputs": [
        {
          "output_type": "stream",
          "name": "stdout",
          "text": [
            "Mounted at /content/drive\n"
          ]
        }
      ]
    },
    {
      "cell_type": "code",
      "metadata": {
        "colab": {
          "base_uri": "https://localhost:8080/"
        },
        "id": "ipVb3vaHVB34",
        "outputId": "0061dcb9-04d2-49b5-a449-7c1a6dd41157"
      },
      "source": [
        "cd /content/drive/MyDrive/"
      ],
      "execution_count": 2,
      "outputs": [
        {
          "output_type": "stream",
          "name": "stdout",
          "text": [
            "/content/drive/MyDrive\n"
          ]
        }
      ]
    },
    {
      "cell_type": "code",
      "metadata": {
        "id": "cCp88L4oVEcw"
      },
      "source": [
        "import os\n",
        "import torch\n",
        "import torch.nn as nn\n",
        "import torchvision\n",
        "from torch.utils.data import DataLoader,Dataset\n",
        "import matplotlib.pyplot as plt\n",
        "import cv2\n",
        "from PIL import Image\n",
        "import torchvision.transforms as transforms\n",
        "from torchvision import models\n",
        "from tqdm import tqdm\n",
        "device=torch.device('cuda' if torch.cuda.is_available() else 'cpu')\n",
        "import numpy as np\n",
        "#import Image\n",
        "#from skimage import io"
      ],
      "execution_count": 3,
      "outputs": []
    },
    {
      "cell_type": "code",
      "metadata": {
        "id": "A02n4pTqVFO3"
      },
      "source": [
        "class Smallanimaldata(Dataset):\n",
        "    def __init__(self,root,class_1,class_2,class_3,is_train):\n",
        "        self.root=root\n",
        "        self.class_1=class_1\n",
        "        self.class_2=class_2\n",
        "        self.class_3=class_3\n",
        "        self.is_train = is_train\n",
        "        #self.augment_pool = augment_pool()\n",
        "        \n",
        "        ######### dataset lists #################\n",
        "        self.pathc=os.path.join(self.root,self.class_1)\n",
        "        self.pathlistc=os.listdir(self.pathc)\n",
        "        self.clas1=[]\n",
        "        for lstcont in self.pathlistc:\n",
        "            pathf=os.path.join(self.pathc,lstcont)\n",
        "            self.clas1.append((pathf,0))\n",
        "            \n",
        "        self.pathc2=os.path.join(self.root,self.class_2)\n",
        "        self.pathlistc2=os.listdir(self.pathc2)\n",
        "        self.clas2=[]\n",
        "        for lst2 in self.pathlistc2:\n",
        "            pathfm=os.path.join(self.pathc2,lst2)\n",
        "            self.clas2.append((pathfm,1))\n",
        "\n",
        "        self.path3=os.path.join(self.root,self.class_3)\n",
        "        self.pathlistc3=os.listdir(self.path3)\n",
        "        self.clas3=[]\n",
        "        for lst3 in self.pathlistc3:\n",
        "            pathfm3=os.path.join(self.path3,lst3)\n",
        "            self.clas3.append((pathfm3,2))\n",
        "        # total list for class1 and class2\n",
        "        self.totpath=self.clas1+self.clas2+self.clas3\n",
        "        \n",
        "    \n",
        "        # for training\n",
        "        if self.is_train:\n",
        "            self.transform=transforms.Compose([transforms.ToPILImage(),\n",
        "                                               transforms.Resize((224,224)),\n",
        "                                               transforms.RandomHorizontalFlip(p=0.5),\n",
        "                                               transforms.RandomVerticalFlip(p=.05),\n",
        "                                               transforms.ColorJitter(brightness=0.1, contrast=0.1, saturation=0.05, hue=0.01),\n",
        "                                               transforms.ToTensor(),\n",
        "                                               transforms.Normalize(mean=[0.485, 0.456, 0.406],\n",
        "                                                           std=[0.229, 0.224, 0.225])\n",
        "                ])\n",
        "        # for validation\n",
        "        if not self.is_train:\n",
        "            self.transform=transforms.Compose([transforms.ToPILImage(),\n",
        "                                               transforms.Resize((224,224)),\n",
        "                                               transforms.ToTensor(),\n",
        "                                               transforms.Normalize(mean=[0.485, 0.456, 0.406],\n",
        "                                                           std=[0.229, 0.224, 0.225])\n",
        "                ])\n",
        "            \n",
        "            \n",
        "    def __getitem__(self,idx):\n",
        "        \n",
        "        ################### Speech Dataset spectrum #################\n",
        "        pathd,label=self.totpath[idx]\n",
        "        #print(pathd)\n",
        "        img=cv2.imread(pathd)\n",
        "        img=self.transform(img)\n",
        "        \n",
        "        return {\"im1\":img,\n",
        "                \"labl1\":label}\n",
        "    \n",
        "    \n",
        "    def __len__(self):\n",
        "        return len(self.totpath)"
      ],
      "execution_count": 4,
      "outputs": []
    },
    {
      "cell_type": "code",
      "metadata": {
        "colab": {
          "base_uri": "https://localhost:8080/"
        },
        "id": "oflbIYm3VJ_g",
        "outputId": "349aa7a7-7884-4499-c3fc-68884b727694"
      },
      "source": [
        "train_data2=\"/content/drive/MyDrive/ISblue_workshop/dataset/train\"    \n",
        "valid_data2=\"/content/drive/MyDrive/ISblue_workshop/dataset/val\"\n",
        "\n",
        "dataset_train=Smallanimaldata(train_data2,'class1','class2','class3',True)\n",
        "dataset_valid=Smallanimaldata(valid_data2,'class1','class2','class3',False)\n",
        "len(dataset_train)\n",
        "len(dataset_valid)\n",
        "\n",
        "train_loader=DataLoader(dataset_train,batch_size=12,shuffle=True)\n",
        "valid_loader=DataLoader(dataset_valid,batch_size=12,shuffle=False) \n",
        "len(train_loader.dataset)\n",
        "len(valid_loader.dataset)"
      ],
      "execution_count": 5,
      "outputs": [
        {
          "output_type": "execute_result",
          "data": {
            "text/plain": [
              "66"
            ]
          },
          "metadata": {},
          "execution_count": 5
        }
      ]
    },
    {
      "cell_type": "code",
      "metadata": {
        "id": "xpSxTIksVNTf"
      },
      "source": [
        "################### define the models ###################### \n",
        "# pytorch petrained models for classification\n",
        "def premodels(pretrained,model_selec,num_classes):\n",
        "    \n",
        "    if model_selec==\"ResNetm\":\n",
        "        model_ft = models.resnet18(pretrained=pretrained)\n",
        "        ## Modify fc layers to match num_classes\n",
        "        num_ftrs = model_ft.fc.in_features\n",
        "        model_ft.fc = nn.Linear(num_ftrs,num_classes)\n",
        "    \n",
        "    elif model_selec==\"DensNet\":\n",
        "        model_ft = models.densenet201(pretrained=pretrained)\n",
        "        num_ftrs = model_ft.classifier.in_features\n",
        "        model_ft.classifier= nn.Linear(num_ftrs, num_classes)\n",
        "        \n",
        "    elif model_selec==\"SENet\":\n",
        "        model_ft = models.squeezenet1_0(pretrained=pretrained)\n",
        "        for params in list(model_ft.parameters())[0:-5]:\n",
        "            params.requires_grad = False\n",
        "        model_ft.classifier[1] = nn.Conv2d(512, num_classes, kernel_size=(1,1), stride=(1,1))\n",
        "        model=model_ft\n",
        "    \n",
        "    elif model_selec==\"MobileNet\":\n",
        "        model_ft = models.mobilenet_v2(pretrained=pretrained)    \n",
        "        # Freeze all the required layers (i.e except last conv block and fc layers)\n",
        "        for params in list(model_ft.parameters())[0:-5]:\n",
        "            params.requires_grad = False\n",
        "        # Modify fc layers to match num_classes\n",
        "        num_ftrs=model_ft.classifier[-1].in_features\n",
        "        model_ft.classifier=nn.Sequential(nn.Dropout(p=0.2, inplace=False),\n",
        "                                          nn.Linear(in_features=num_ftrs, out_features=num_classes, bias=True))\n",
        "        model=model_ft\n",
        "    \n",
        "    \n",
        "    elif model_selec==\"VGG11\":\n",
        "        model_ft = models.vgg11_bn(pretrained=pretrained)\n",
        "        num_ftrs = model_ft.classifier[6].in_features\n",
        "        model_ft.classifier[6] = nn.Linear(num_ftrs,num_classes)\n",
        "        model=model_ft\n",
        "\n",
        "    elif model_selec==\"Efficents\":\n",
        "        from efficientnet_pytorch import EfficientNet\n",
        "        model = EfficientNet.from_pretrained(\"efficientnet-b0\")\n",
        "        model._fc = nn.Sequential(nn.Linear(2560, 256),\n",
        "                                  nn.Dropout(0.5),\n",
        "                                  nn.ReLU(True),\n",
        "                                  nn.Linear(256,num_classes),\n",
        "                                  )\n",
        "        \n",
        "    elif model_selec==\"Efficents2m\":\n",
        "        model=effnetv2_m()\n",
        "        \n",
        "    elif model_selec==\"Efficents2s\":\n",
        "        model=effnetv2_s()\n",
        "        \n",
        "    elif model_selec==\"Efficents2L\":\n",
        "        model=effnetv2_l()\n",
        "        \n",
        "    elif model_selec==\"Efficents2XL\":\n",
        "        model=effnetv2_xl()\n",
        "        \n",
        "    # elif model_selec==\"Efficents2m\":\n",
        "    #     model=effnetv2_m()\n",
        "\n",
        "    else:\n",
        "        print(\"no model available\")\n",
        "        \n",
        "    return model_ft"
      ],
      "execution_count": 6,
      "outputs": []
    },
    {
      "cell_type": "code",
      "metadata": {
        "id": "WUZIYlUPVPpv"
      },
      "source": [
        "model_ft=premodels(pretrained=True,model_selec=\"ResNetm\",num_classes=3)        \n",
        "#print(model)   \n",
        "model_ft.to(device)\n",
        "model=model_ft"
      ],
      "execution_count": 9,
      "outputs": []
    },
    {
      "cell_type": "code",
      "metadata": {
        "id": "x5TnhfARVRfQ"
      },
      "source": [
        "###################### define loss function and optimzer ############\n",
        "loss_func=nn.CrossEntropyLoss()\n",
        "import torch.optim as optim\n",
        "optimizer=optim.Adam(model.parameters(),lr=0.0001)"
      ],
      "execution_count": 10,
      "outputs": []
    },
    {
      "cell_type": "code",
      "metadata": {
        "id": "VgXL64QCVUFA"
      },
      "source": [
        "################################ training functions ###################\n",
        "def train_fn(model,train_loader):\n",
        "    model.train()\n",
        "    counter=0\n",
        "    training_run_loss=0.0\n",
        "    train_running_correct=0.0\n",
        "    for i, data in tqdm(enumerate(train_loader),total=int(len(dataset_train)/train_loader.batch_size)):\n",
        "        counter+=1\n",
        "        # extract dataset\n",
        "        imge,label=data[\"im1\"],data[\"labl1\"]\n",
        "        imge=imge.to(device)\n",
        "        label=label.to(device)\n",
        "        # zero_out the gradient\n",
        "        optimizer.zero_grad()\n",
        "        output=model(imge)\n",
        "        loss=loss_func(output,label)\n",
        "        training_run_loss+=loss.item()\n",
        "        _,preds=torch.max(output.data,1)\n",
        "        train_running_correct+=(preds==label).sum().item()\n",
        "        loss.backward()\n",
        "        optimizer.step()\n",
        "    ###################### state computation ###################\n",
        "    train_loss=training_run_loss/len(train_loader.dataset)\n",
        "    train_loss_ep.append(train_loss)\n",
        "    train_accuracy=100.* train_running_correct/len(train_loader.dataset)\n",
        "    train_accuracy_ep.append(train_accuracy)\n",
        "    print(f\"Train Loss:{train_loss:.4f}, Train Acc:{train_accuracy:0.2f}\")\n",
        "    return train_loss_ep,train_accuracy_ep"
      ],
      "execution_count": 11,
      "outputs": []
    },
    {
      "cell_type": "code",
      "metadata": {
        "id": "nT95eFOgVcMH"
      },
      "source": [
        "########################## validation function ##################\n",
        "def validation_fn(model,valid_loader):\n",
        "  # evluation start\n",
        "    print(\"validation start\")\n",
        "    \n",
        "    model.eval()\n",
        "    val_running_loss = 0.0\n",
        "    val_running_correct = 0\n",
        "    with torch.no_grad():\n",
        "        for i,data in tqdm(enumerate(valid_loader),total=int(len(dataset_valid)/valid_loader.batch_size)):\n",
        "            imge,label=data[\"im1\"],data[\"labl1\"]\n",
        "            imge=imge.to(device)\n",
        "            label=label.to(device)\n",
        "            output=model(imge)\n",
        "            loss=loss_func(output,label)\n",
        "            val_running_loss+=loss.item()\n",
        "            _,pred=torch.max(output.data,1)\n",
        "            val_running_correct+=(pred==label).sum().item()\n",
        "        val_loss=val_running_loss/len(valid_loader.dataset)\n",
        "        val_loss_ep.append(val_loss)\n",
        "        val_accuracy=100.* val_running_correct/(len(valid_loader.dataset))\n",
        "        val_accuracy_ep.append(val_accuracy)\n",
        "        print(f\"Val Loss:{val_loss:0.4f}, Val_Acc:{val_accuracy:0.2f}\")\n",
        "        return val_loss_ep,val_accuracy_ep"
      ],
      "execution_count": 12,
      "outputs": []
    },
    {
      "cell_type": "code",
      "metadata": {
        "id": "t7QbaG8tVe2H"
      },
      "source": [
        "def evlaution_fn(model,valid_loader):\n",
        "    correct = 0\n",
        "    total = 0\n",
        "    # since we're not training, we don't need to calculate the gradients for our outputs\n",
        "    with torch.no_grad():\n",
        "        for data in valid_loader:\n",
        "            images, labels = data[\"im1\"],data[\"labl1\"]\n",
        "            images=images.float().to(device)\n",
        "            labels=labels.to(device)\n",
        "            model=model.to(device)\n",
        "            # calculate outputs by running images through the network\n",
        "            outputs = model(images)\n",
        "            # the class with the highest energy is what we choose as prediction\n",
        "            _, predicted = torch.max(outputs.data, 1)\n",
        "            total += labels.size(0)\n",
        "            correct += (predicted == labels).sum().item()\n",
        "    return print('Accuracy of the network on the test images: %d %%' % (100 * correct / total))"
      ],
      "execution_count": 13,
      "outputs": []
    },
    {
      "cell_type": "code",
      "metadata": {
        "id": "6L02xKapVhF_"
      },
      "source": [
        "def Prediciton_fn(model,valid_loader):\n",
        "    model.eval()\n",
        "    model.to(device)\n",
        "    # keep track of the loss and predictions\n",
        "    preds = np.zeros((len(valid_loader.dataset), 3)) # 3 classes\n",
        "    labels = np.zeros((len(valid_loader.dataset)))\n",
        "    for i, data in enumerate(valid_loader): \n",
        "        # sample data\n",
        "        x, y = data[\"im1\"],data[\"labl1\"]\n",
        "        # transfer data to GPU and correct format\n",
        "        x = x.float().to(device)\n",
        "        # feed the batch to the network and compute the outputs\n",
        "        y_pred = model(x)\n",
        "        # get the class probability predictions and save them for validation\n",
        "        y_ = torch.softmax(y_pred, dim=1)\n",
        "        b = i * valid_loader.batch_size\n",
        "        preds[b: b + y_.size(0),:] = y_.detach().cpu().numpy()\n",
        "        labels[b: b + y_.size(0)] = y.detach().cpu().numpy()\n",
        "    return preds,labels"
      ],
      "execution_count": 14,
      "outputs": []
    },
    {
      "cell_type": "code",
      "metadata": {
        "colab": {
          "base_uri": "https://localhost:8080/"
        },
        "id": "88vHeO3QVjhH",
        "outputId": "e0ce7b8f-c833-443b-d175-677189af4d70"
      },
      "source": [
        "epochs=20\n",
        "train_loss_ep=[]\n",
        "train_accuracy_ep=[]\n",
        "val_loss_ep=[]\n",
        "val_accuracy_ep=[]\n",
        "#y_pred1=[]\n",
        "#y_labels1=[]\n",
        "for epoch in range(epochs):\n",
        "    train_loss_ep,train_accuracy_ep=train_fn(model,train_loader)\n",
        "    val_loss_ep,val_accuracy_ep=validation_fn(model,valid_loader)\n",
        "    y_pred,labels=Prediciton_fn(model,valid_loader)\n",
        "    #y_pred1.append(y_pred)\n",
        "    #y_labels1.append(labels)"
      ],
      "execution_count": 15,
      "outputs": [
        {
          "output_type": "stream",
          "name": "stderr",
          "text": [
            "  0%|          | 0/27 [00:00<?, ?it/s]/usr/local/lib/python3.7/dist-packages/torch/nn/functional.py:718: UserWarning: Named tensors and all their associated APIs are an experimental feature and subject to change. Please do not use them for anything important until they are released as stable. (Triggered internally at  /pytorch/c10/core/TensorImpl.h:1156.)\n",
            "  return torch.max_pool2d(input, kernel_size, stride, padding, dilation, ceil_mode)\n",
            "28it [01:27,  3.12s/it]\n"
          ]
        },
        {
          "output_type": "stream",
          "name": "stdout",
          "text": [
            "Train Loss:0.0392, Train Acc:83.23\n",
            "validation start\n"
          ]
        },
        {
          "output_type": "stream",
          "name": "stderr",
          "text": [
            "6it [00:16,  2.82s/it]\n"
          ]
        },
        {
          "output_type": "stream",
          "name": "stdout",
          "text": [
            "Val Loss:0.0407, Val_Acc:74.24\n"
          ]
        },
        {
          "output_type": "stream",
          "name": "stderr",
          "text": [
            "28it [00:05,  5.55it/s]                        \n"
          ]
        },
        {
          "output_type": "stream",
          "name": "stdout",
          "text": [
            "Train Loss:0.0174, Train Acc:94.82\n",
            "validation start\n"
          ]
        },
        {
          "output_type": "stream",
          "name": "stderr",
          "text": [
            "6it [00:00,  9.02it/s]                       \n"
          ]
        },
        {
          "output_type": "stream",
          "name": "stdout",
          "text": [
            "Val Loss:0.0557, Val_Acc:75.76\n"
          ]
        },
        {
          "output_type": "stream",
          "name": "stderr",
          "text": [
            "28it [00:04,  5.62it/s]                        \n"
          ]
        },
        {
          "output_type": "stream",
          "name": "stdout",
          "text": [
            "Train Loss:0.0151, Train Acc:94.51\n",
            "validation start\n"
          ]
        },
        {
          "output_type": "stream",
          "name": "stderr",
          "text": [
            "6it [00:00,  9.21it/s]                       \n"
          ]
        },
        {
          "output_type": "stream",
          "name": "stdout",
          "text": [
            "Val Loss:0.0610, Val_Acc:74.24\n"
          ]
        },
        {
          "output_type": "stream",
          "name": "stderr",
          "text": [
            "28it [00:04,  5.66it/s]                        \n"
          ]
        },
        {
          "output_type": "stream",
          "name": "stdout",
          "text": [
            "Train Loss:0.0065, Train Acc:97.56\n",
            "validation start\n"
          ]
        },
        {
          "output_type": "stream",
          "name": "stderr",
          "text": [
            "6it [00:00,  9.09it/s]                       \n"
          ]
        },
        {
          "output_type": "stream",
          "name": "stdout",
          "text": [
            "Val Loss:0.0710, Val_Acc:75.76\n"
          ]
        },
        {
          "output_type": "stream",
          "name": "stderr",
          "text": [
            "28it [00:04,  5.63it/s]                        \n"
          ]
        },
        {
          "output_type": "stream",
          "name": "stdout",
          "text": [
            "Train Loss:0.0051, Train Acc:97.87\n",
            "validation start\n"
          ]
        },
        {
          "output_type": "stream",
          "name": "stderr",
          "text": [
            "6it [00:00,  8.85it/s]                       \n"
          ]
        },
        {
          "output_type": "stream",
          "name": "stdout",
          "text": [
            "Val Loss:0.0608, Val_Acc:80.30\n"
          ]
        },
        {
          "output_type": "stream",
          "name": "stderr",
          "text": [
            "28it [00:05,  5.57it/s]                        \n"
          ]
        },
        {
          "output_type": "stream",
          "name": "stdout",
          "text": [
            "Train Loss:0.0056, Train Acc:97.87\n",
            "validation start\n"
          ]
        },
        {
          "output_type": "stream",
          "name": "stderr",
          "text": [
            "6it [00:00,  9.17it/s]                       \n"
          ]
        },
        {
          "output_type": "stream",
          "name": "stdout",
          "text": [
            "Val Loss:0.0694, Val_Acc:75.76\n"
          ]
        },
        {
          "output_type": "stream",
          "name": "stderr",
          "text": [
            "28it [00:04,  5.61it/s]                        \n"
          ]
        },
        {
          "output_type": "stream",
          "name": "stdout",
          "text": [
            "Train Loss:0.0032, Train Acc:99.09\n",
            "validation start\n"
          ]
        },
        {
          "output_type": "stream",
          "name": "stderr",
          "text": [
            "6it [00:00,  9.03it/s]                       \n"
          ]
        },
        {
          "output_type": "stream",
          "name": "stdout",
          "text": [
            "Val Loss:0.0525, Val_Acc:75.76\n"
          ]
        },
        {
          "output_type": "stream",
          "name": "stderr",
          "text": [
            "28it [00:04,  5.64it/s]                        \n"
          ]
        },
        {
          "output_type": "stream",
          "name": "stdout",
          "text": [
            "Train Loss:0.0047, Train Acc:97.87\n",
            "validation start\n"
          ]
        },
        {
          "output_type": "stream",
          "name": "stderr",
          "text": [
            "6it [00:00,  9.11it/s]                       \n"
          ]
        },
        {
          "output_type": "stream",
          "name": "stdout",
          "text": [
            "Val Loss:0.0890, Val_Acc:69.70\n"
          ]
        },
        {
          "output_type": "stream",
          "name": "stderr",
          "text": [
            "28it [00:04,  5.66it/s]                        \n"
          ]
        },
        {
          "output_type": "stream",
          "name": "stdout",
          "text": [
            "Train Loss:0.0136, Train Acc:95.12\n",
            "validation start\n"
          ]
        },
        {
          "output_type": "stream",
          "name": "stderr",
          "text": [
            "6it [00:00,  9.06it/s]                       \n"
          ]
        },
        {
          "output_type": "stream",
          "name": "stdout",
          "text": [
            "Val Loss:0.0843, Val_Acc:72.73\n"
          ]
        },
        {
          "output_type": "stream",
          "name": "stderr",
          "text": [
            "28it [00:04,  5.64it/s]                        \n"
          ]
        },
        {
          "output_type": "stream",
          "name": "stdout",
          "text": [
            "Train Loss:0.0037, Train Acc:99.09\n",
            "validation start\n"
          ]
        },
        {
          "output_type": "stream",
          "name": "stderr",
          "text": [
            "6it [00:00,  9.19it/s]                       \n"
          ]
        },
        {
          "output_type": "stream",
          "name": "stdout",
          "text": [
            "Val Loss:0.0616, Val_Acc:83.33\n"
          ]
        },
        {
          "output_type": "stream",
          "name": "stderr",
          "text": [
            "28it [00:05,  5.59it/s]                        \n"
          ]
        },
        {
          "output_type": "stream",
          "name": "stdout",
          "text": [
            "Train Loss:0.0034, Train Acc:99.09\n",
            "validation start\n"
          ]
        },
        {
          "output_type": "stream",
          "name": "stderr",
          "text": [
            "6it [00:00,  8.90it/s]                       \n"
          ]
        },
        {
          "output_type": "stream",
          "name": "stdout",
          "text": [
            "Val Loss:0.1019, Val_Acc:72.73\n"
          ]
        },
        {
          "output_type": "stream",
          "name": "stderr",
          "text": [
            "28it [00:04,  5.69it/s]                        \n"
          ]
        },
        {
          "output_type": "stream",
          "name": "stdout",
          "text": [
            "Train Loss:0.0025, Train Acc:99.09\n",
            "validation start\n"
          ]
        },
        {
          "output_type": "stream",
          "name": "stderr",
          "text": [
            "6it [00:00,  8.89it/s]                       \n"
          ]
        },
        {
          "output_type": "stream",
          "name": "stdout",
          "text": [
            "Val Loss:0.0566, Val_Acc:83.33\n"
          ]
        },
        {
          "output_type": "stream",
          "name": "stderr",
          "text": [
            "28it [00:04,  5.67it/s]                        \n"
          ]
        },
        {
          "output_type": "stream",
          "name": "stdout",
          "text": [
            "Train Loss:0.0058, Train Acc:98.78\n",
            "validation start\n"
          ]
        },
        {
          "output_type": "stream",
          "name": "stderr",
          "text": [
            "6it [00:00,  8.98it/s]                       \n"
          ]
        },
        {
          "output_type": "stream",
          "name": "stdout",
          "text": [
            "Val Loss:0.0816, Val_Acc:74.24\n"
          ]
        },
        {
          "output_type": "stream",
          "name": "stderr",
          "text": [
            "28it [00:04,  5.68it/s]                        \n"
          ]
        },
        {
          "output_type": "stream",
          "name": "stdout",
          "text": [
            "Train Loss:0.0056, Train Acc:96.95\n",
            "validation start\n"
          ]
        },
        {
          "output_type": "stream",
          "name": "stderr",
          "text": [
            "6it [00:00,  9.27it/s]                       \n"
          ]
        },
        {
          "output_type": "stream",
          "name": "stdout",
          "text": [
            "Val Loss:0.0645, Val_Acc:86.36\n"
          ]
        },
        {
          "output_type": "stream",
          "name": "stderr",
          "text": [
            "28it [00:04,  5.61it/s]                        \n"
          ]
        },
        {
          "output_type": "stream",
          "name": "stdout",
          "text": [
            "Train Loss:0.0035, Train Acc:97.87\n",
            "validation start\n"
          ]
        },
        {
          "output_type": "stream",
          "name": "stderr",
          "text": [
            "6it [00:00,  8.93it/s]                       \n"
          ]
        },
        {
          "output_type": "stream",
          "name": "stdout",
          "text": [
            "Val Loss:0.0803, Val_Acc:74.24\n"
          ]
        },
        {
          "output_type": "stream",
          "name": "stderr",
          "text": [
            "28it [00:04,  5.62it/s]                        \n"
          ]
        },
        {
          "output_type": "stream",
          "name": "stdout",
          "text": [
            "Train Loss:0.0033, Train Acc:98.78\n",
            "validation start\n"
          ]
        },
        {
          "output_type": "stream",
          "name": "stderr",
          "text": [
            "6it [00:00,  8.99it/s]                       \n"
          ]
        },
        {
          "output_type": "stream",
          "name": "stdout",
          "text": [
            "Val Loss:0.0414, Val_Acc:87.88\n"
          ]
        },
        {
          "output_type": "stream",
          "name": "stderr",
          "text": [
            "28it [00:04,  5.67it/s]                        \n"
          ]
        },
        {
          "output_type": "stream",
          "name": "stdout",
          "text": [
            "Train Loss:0.0018, Train Acc:99.39\n",
            "validation start\n"
          ]
        },
        {
          "output_type": "stream",
          "name": "stderr",
          "text": [
            "6it [00:00,  8.84it/s]                       \n"
          ]
        },
        {
          "output_type": "stream",
          "name": "stdout",
          "text": [
            "Val Loss:0.0445, Val_Acc:90.91\n"
          ]
        },
        {
          "output_type": "stream",
          "name": "stderr",
          "text": [
            "28it [00:04,  5.63it/s]                        \n"
          ]
        },
        {
          "output_type": "stream",
          "name": "stdout",
          "text": [
            "Train Loss:0.0050, Train Acc:97.56\n",
            "validation start\n"
          ]
        },
        {
          "output_type": "stream",
          "name": "stderr",
          "text": [
            "6it [00:00,  8.78it/s]                       \n"
          ]
        },
        {
          "output_type": "stream",
          "name": "stdout",
          "text": [
            "Val Loss:0.0679, Val_Acc:81.82\n"
          ]
        },
        {
          "output_type": "stream",
          "name": "stderr",
          "text": [
            "28it [00:04,  5.62it/s]                        \n"
          ]
        },
        {
          "output_type": "stream",
          "name": "stdout",
          "text": [
            "Train Loss:0.0033, Train Acc:99.39\n",
            "validation start\n"
          ]
        },
        {
          "output_type": "stream",
          "name": "stderr",
          "text": [
            "6it [00:00,  9.21it/s]                       \n"
          ]
        },
        {
          "output_type": "stream",
          "name": "stdout",
          "text": [
            "Val Loss:0.0674, Val_Acc:80.30\n"
          ]
        },
        {
          "output_type": "stream",
          "name": "stderr",
          "text": [
            "28it [00:04,  5.61it/s]                        \n"
          ]
        },
        {
          "output_type": "stream",
          "name": "stdout",
          "text": [
            "Train Loss:0.0051, Train Acc:98.17\n",
            "validation start\n"
          ]
        },
        {
          "output_type": "stream",
          "name": "stderr",
          "text": [
            "6it [00:00,  8.77it/s]                       \n"
          ]
        },
        {
          "output_type": "stream",
          "name": "stdout",
          "text": [
            "Val Loss:0.0719, Val_Acc:77.27\n"
          ]
        }
      ]
    },
    {
      "cell_type": "code",
      "metadata": {
        "colab": {
          "base_uri": "https://localhost:8080/",
          "height": 295
        },
        "id": "pZU67vIAV7U_",
        "outputId": "ce326f48-56db-42ca-dc02-9ee9cbc0719d"
      },
      "source": [
        "plt.plot(train_accuracy_ep,'-o')\n",
        "plt.plot(val_accuracy_ep,'-o')\n",
        "plt.xlabel('epoch')\n",
        "plt.ylabel('accuracy')\n",
        "plt.legend(['Train','Valid'])\n",
        "plt.title('Train vs Valid Accuracy')\n",
        " \n",
        "plt.show()"
      ],
      "execution_count": 16,
      "outputs": [
        {
          "output_type": "display_data",
          "data": {
            "image/png": "[encoded data removed]",
            "text/plain": [
              "<Figure size 432x288 with 1 Axes>"
            ]
          },
          "metadata": {
            "needs_background": "light"
          }
        }
      ]
    },
    {
      "cell_type": "code",
      "metadata": {
        "colab": {
          "base_uri": "https://localhost:8080/",
          "height": 295
        },
        "id": "roWPh1lBV-pX",
        "outputId": "363a6456-4986-4705-dc59-6c812d3ce1ef"
      },
      "source": [
        "plt.plot(train_loss_ep,'-o')\n",
        "plt.plot(val_loss_ep,'-o')\n",
        "plt.xlabel('epoch')\n",
        "plt.ylabel('Loss')\n",
        "plt.legend(['Train','Valid'])\n",
        "plt.title('Train vs Valid Loss')\n",
        " \n",
        "plt.show()"
      ],
      "execution_count": 17,
      "outputs": [
        {
          "output_type": "display_data",
          "data": {
            "image/png": "[encoded data removed]",
            "text/plain": [
              "<Figure size 432x288 with 1 Axes>"
            ]
          },
          "metadata": {
            "needs_background": "light"
          }
        }
      ]
    },
    {
      "cell_type": "code",
      "metadata": {
        "colab": {
          "base_uri": "https://localhost:8080/"
        },
        "id": "TNyZUkB8WCZH",
        "outputId": "363db5ed-1ce6-4744-f234-4a3b52b1d681"
      },
      "source": [
        "y_pred.shape"
      ],
      "execution_count": 18,
      "outputs": [
        {
          "output_type": "execute_result",
          "data": {
            "text/plain": [
              "(66, 3)"
            ]
          },
          "metadata": {},
          "execution_count": 18
        }
      ]
    },
    {
      "cell_type": "code",
      "metadata": {
        "colab": {
          "base_uri": "https://localhost:8080/"
        },
        "id": "VMnVPYIhWFQ3",
        "outputId": "bb0d7bb2-98b0-4395-9177-ee2267e16900"
      },
      "source": [
        "labels"
      ],
      "execution_count": 19,
      "outputs": [
        {
          "output_type": "execute_result",
          "data": {
            "text/plain": [
              "array([0., 0., 0., 0., 0., 0., 0., 0., 0., 0., 0., 0., 0., 0., 0., 0., 0.,\n",
              "       0., 0., 0., 0., 0., 1., 1., 1., 1., 1., 1., 1., 1., 1., 1., 1., 1.,\n",
              "       1., 1., 1., 1., 1., 1., 1., 1., 1., 1., 2., 2., 2., 2., 2., 2., 2.,\n",
              "       2., 2., 2., 2., 2., 2., 2., 2., 2., 2., 2., 2., 2., 2., 2.])"
            ]
          },
          "metadata": {},
          "execution_count": 19
        }
      ]
    },
    {
      "cell_type": "code",
      "metadata": {
        "id": "KFMlH-1IWIRA"
      },
      "source": [
        "np.save(\"/content/drive/MyDrive/save_results/train_loss_ep.npy\",train_loss_ep)\n",
        "np.save(\"/content/drive/MyDrive/save_results/train_accuracy_ep.npy\",train_accuracy_ep)\n",
        "np.save(\"/content/drive/MyDrive/save_results/val_loss_ep.npy\",val_loss_ep)\n",
        "np.save(\"/content/drive/MyDrive/save_results/val_accuracy_ep.npy\",val_accuracy_ep)\n",
        "np.save(\"/content/drive/MyDrive/save_results/y_pred.npy\",y_pred)\n",
        "np.save(\"/content/drive/MyDrive/save_results/labels.npy\",labels)"
      ],
      "execution_count": 20,
      "outputs": []
    },
    {
      "cell_type": "code",
      "metadata": {
        "id": "0uQD0udBWKXp"
      },
      "source": [
        "import numpy as np\n",
        "pred=np.load('/content/drive/MyDrive/save_results/y_pred.npy')\n",
        "label=np.load('/content/drive/MyDrive/save_results/labels.npy')"
      ],
      "execution_count": 21,
      "outputs": []
    },
    {
      "cell_type": "code",
      "metadata": {
        "colab": {
          "base_uri": "https://localhost:8080/"
        },
        "id": "HU4AOQZvW-YX",
        "outputId": "050e8041-b0b1-413e-e32c-faaa3ee7e70c"
      },
      "source": [
        "label"
      ],
      "execution_count": 23,
      "outputs": [
        {
          "output_type": "execute_result",
          "data": {
            "text/plain": [
              "array([0., 0., 0., 0., 0., 0., 0., 0., 0., 0., 0., 0., 0., 0., 0., 0., 0.,\n",
              "       0., 0., 0., 0., 0., 1., 1., 1., 1., 1., 1., 1., 1., 1., 1., 1., 1.,\n",
              "       1., 1., 1., 1., 1., 1., 1., 1., 1., 1., 2., 2., 2., 2., 2., 2., 2.,\n",
              "       2., 2., 2., 2., 2., 2., 2., 2., 2., 2., 2., 2., 2., 2., 2.])"
            ]
          },
          "metadata": {},
          "execution_count": 23
        }
      ]
    },
    {
      "cell_type": "code",
      "metadata": {
        "colab": {
          "base_uri": "https://localhost:8080/"
        },
        "id": "sc4Wk8skW7-Y",
        "outputId": "91f0c617-7480-465d-aa31-0518ed3bd13c"
      },
      "source": [
        "pred"
      ],
      "execution_count": 22,
      "outputs": [
        {
          "output_type": "execute_result",
          "data": {
            "text/plain": [
              "array([[3.68184358e-01, 2.29510918e-01, 4.02304739e-01],\n",
              "       [9.93622482e-01, 1.56771019e-03, 4.80987364e-03],\n",
              "       [9.99950290e-01, 3.94119098e-07, 4.93191365e-05],\n",
              "       [9.63209271e-01, 7.54752895e-04, 3.60359326e-02],\n",
              "       [9.99247313e-01, 9.58732562e-06, 7.43234588e-04],\n",
              "       [9.96640086e-01, 6.35851961e-07, 3.35928751e-03],\n",
              "       [9.99567807e-01, 5.61311481e-06, 4.26595885e-04],\n",
              "       [9.91055489e-01, 2.49347650e-04, 8.69511161e-03],\n",
              "       [9.99047458e-01, 1.47344384e-04, 8.05238669e-04],\n",
              "       [9.99856591e-01, 1.67870639e-05, 1.26564628e-04],\n",
              "       [9.96484637e-01, 4.06207300e-06, 3.51134385e-03],\n",
              "       [9.99557316e-01, 1.59934862e-04, 2.82766210e-04],\n",
              "       [9.99032855e-01, 8.50155720e-06, 9.58722027e-04],\n",
              "       [9.93241310e-01, 2.04153298e-06, 6.75665215e-03],\n",
              "       [9.85105038e-01, 7.21767094e-07, 1.48942154e-02],\n",
              "       [7.14181423e-01, 8.45278701e-05, 2.85733998e-01],\n",
              "       [9.99197781e-01, 4.28320142e-04, 3.73897754e-04],\n",
              "       [4.97926325e-01, 4.83825579e-06, 5.02068877e-01],\n",
              "       [4.81621861e-01, 1.96538676e-05, 5.18358469e-01],\n",
              "       [9.99294400e-01, 1.74439876e-07, 7.05467653e-04],\n",
              "       [8.58587265e-01, 5.76806534e-03, 1.35644659e-01],\n",
              "       [9.99891281e-01, 1.09839493e-06, 1.07616223e-04],\n",
              "       [6.86946750e-01, 2.31947433e-05, 3.13030064e-01],\n",
              "       [8.37285479e-04, 8.04714451e-04, 9.98357952e-01],\n",
              "       [8.17826092e-01, 5.15150987e-02, 1.30658805e-01],\n",
              "       [7.32085407e-01, 2.18441442e-01, 4.94732074e-02],\n",
              "       [9.61288154e-01, 1.12840254e-02, 2.74278633e-02],\n",
              "       [1.10643238e-01, 8.54097843e-01, 3.52589227e-02],\n",
              "       [8.63185287e-01, 1.03150189e-01, 3.36645171e-02],\n",
              "       [1.35821611e-01, 7.61594892e-01, 1.02583490e-01],\n",
              "       [9.79756117e-01, 1.26948711e-02, 7.54896691e-03],\n",
              "       [5.92041202e-03, 7.42774844e-01, 2.51304746e-01],\n",
              "       [6.41673386e-01, 3.53567064e-01, 4.75958362e-03],\n",
              "       [1.33410664e-04, 1.56784465e-03, 9.98298824e-01],\n",
              "       [1.16463095e-01, 1.52116448e-01, 7.31420398e-01],\n",
              "       [1.16117254e-01, 7.92062700e-01, 9.18200016e-02],\n",
              "       [8.47329153e-04, 4.53232020e-01, 5.45920670e-01],\n",
              "       [9.35661867e-02, 8.04876506e-01, 1.01557367e-01],\n",
              "       [6.01767516e-03, 9.82566118e-01, 1.14161652e-02],\n",
              "       [2.14593695e-03, 7.84352541e-01, 2.13501573e-01],\n",
              "       [5.22265397e-02, 9.25737381e-01, 2.20360402e-02],\n",
              "       [2.68522073e-02, 1.61759075e-04, 9.72985923e-01],\n",
              "       [9.90072638e-03, 9.62578714e-01, 2.75205318e-02],\n",
              "       [2.62268477e-05, 9.99948621e-01, 2.51574438e-05],\n",
              "       [1.79757120e-03, 9.21199444e-06, 9.98193324e-01],\n",
              "       [1.46400387e-04, 3.39064798e-07, 9.99853253e-01],\n",
              "       [1.02875673e-03, 3.26302853e-07, 9.98970866e-01],\n",
              "       [1.80436170e-03, 2.40045119e-06, 9.98193324e-01],\n",
              "       [3.23704118e-03, 1.44395418e-03, 9.95318949e-01],\n",
              "       [1.89244212e-03, 2.37713557e-05, 9.98083830e-01],\n",
              "       [3.16959200e-03, 2.53622943e-07, 9.96830165e-01],\n",
              "       [4.99890439e-06, 1.87997188e-07, 9.99994755e-01],\n",
              "       [7.82429799e-03, 5.29801582e-05, 9.92122710e-01],\n",
              "       [2.69294222e-04, 1.46984620e-08, 9.99730647e-01],\n",
              "       [1.23539838e-04, 2.20243624e-06, 9.99874353e-01],\n",
              "       [7.50862574e-03, 1.43136485e-05, 9.92477119e-01],\n",
              "       [1.43640373e-05, 1.96136057e-07, 9.99985456e-01],\n",
              "       [1.38615269e-05, 1.25488832e-05, 9.99973655e-01],\n",
              "       [1.77261390e-04, 6.22110363e-08, 9.99822676e-01],\n",
              "       [1.07789208e-04, 5.14071507e-05, 9.99840856e-01],\n",
              "       [1.41289667e-04, 2.09746704e-05, 9.99837756e-01],\n",
              "       [4.16750700e-05, 3.91087360e-06, 9.99954343e-01],\n",
              "       [3.52656213e-03, 3.24059743e-04, 9.96149421e-01],\n",
              "       [2.99146690e-04, 2.00620882e-04, 9.99500155e-01],\n",
              "       [1.31320930e-05, 1.41290857e-05, 9.99972701e-01],\n",
              "       [1.34779490e-03, 7.60447801e-05, 9.98576164e-01]])"
            ]
          },
          "metadata": {},
          "execution_count": 22
        }
      ]
    },
    {
      "cell_type": "code",
      "metadata": {
        "id": "1PYzM_6XXSAo"
      },
      "source": [
        "import numpy as np\n",
        "pathP='/content/drive/MyDrive/save_results/y_pred.npy'\n",
        "pathG='/content/drive/MyDrive/save_results/labels.npy'"
      ],
      "execution_count": 26,
      "outputs": []
    },
    {
      "cell_type": "code",
      "metadata": {
        "id": "3Ql1TvcUWK-u"
      },
      "source": [
        "import numpy as np\n",
        "import os\n",
        "from sklearn.metrics import precision_score\n",
        "from sklearn.metrics import precision_recall_fscore_support as score\n",
        "from sklearn.metrics import accuracy_score\n",
        "from sklearn.metrics import confusion_matrix\n",
        "import pandas as pd\n",
        "from numpy import argmax\n",
        "from tensorflow.keras.utils import to_categorical\n",
        "from sklearn.metrics import roc_curve, auc\n",
        "import matplotlib.pyplot as plt\n",
        "from sklearn.metrics import average_precision_score, auc, roc_curve, precision_recall_curve\n",
        "\n",
        "#     return dataparam\n",
        "dataparam={\"Accuracy\":[],\n",
        "           \"Percision\":[],\n",
        "           \"Recall\":[],\n",
        "           \"F1_score\":[],\n",
        "           \"class1_Accu\":[],\n",
        "           \"class2_Accu\":[],\n",
        "           \"class3_Accu\":[],\n",
        "           }\n",
        "def performance(pathG,pathP):\n",
        "    GT=np.load(pathG)\n",
        "    Pred=np.load(pathP)\n",
        "    Pred_arg=np.argmax(Pred,axis=1)\n",
        "    y_true=GT\n",
        "    y_pred=Pred_arg\n",
        "    precision,recall,fscore,support=score(y_true,y_pred,average='macro')\n",
        "    acc=accuracy_score(y_true, y_pred)\n",
        "    conf_mat=confusion_matrix(y_true, y_pred)\n",
        "    class_accuracy=conf_mat.diagonal()/conf_mat.sum(1)\n",
        "    class1=class_accuracy[0]\n",
        "    class2=class_accuracy[1]\n",
        "    dataparam[\"Accuracy\"].append(acc)\n",
        "    dataparam[\"Percision\"].append(precision)\n",
        "    dataparam[\"Recall\"].append(recall)\n",
        "    dataparam[\"F1_score\"].append(fscore)\n",
        "    dataparam[\"class1_Accu\"].append(class_accuracy[0])\n",
        "    dataparam[\"class2_Accu\"].append(class_accuracy[1])\n",
        "    dataparam[\"class3_Accu\"].append(class_accuracy[2])\n",
        "    return dataparam\n",
        "    \n",
        "#D=os.path.join(pathresults,\"GT_DensNet.npy\",\"P_DensNet.npy\"))\n",
        "dataparam=performance(pathG,pathP)\n",
        " \n",
        "df=pd.DataFrame.from_dict(dataparam)\n",
        "\n",
        "result=df.rename(index={0: \"ResNet\"})\n",
        "\n",
        "#result=df.rename(index={0: \"Comined_Models\", \n",
        "                        #1: \"EFNetV1\", \n",
        "                        #2: \"VGG\",\n",
        "                        #3: \"SENet\",\n",
        "                        #4: \"mobilNe\"})\n",
        "\n",
        "\n",
        "\n",
        "result.to_csv(\"Results1.csv\")"
      ],
      "execution_count": 30,
      "outputs": []
    },
    {
      "cell_type": "code",
      "metadata": {
        "colab": {
          "base_uri": "https://localhost:8080/",
          "height": 80
        },
        "id": "LhdLeOh0XtqB",
        "outputId": "5e6bc2ff-db25-4cb6-96a0-876fcb774d4c"
      },
      "source": [
        "result"
      ],
      "execution_count": 31,
      "outputs": [
        {
          "output_type": "execute_result",
          "data": {
            "text/html": [
              "<div>\n",
              "<style scoped>\n",
              "    .dataframe tbody tr th:only-of-type {\n",
              "        vertical-align: middle;\n",
              "    }\n",
              "\n",
              "    .dataframe tbody tr th {\n",
              "        vertical-align: top;\n",
              "    }\n",
              "\n",
              "    .dataframe thead th {\n",
              "        text-align: right;\n",
              "    }\n",
              "</style>\n",
              "<table border=\"1\" class=\"dataframe\">\n",
              "  <thead>\n",
              "    <tr style=\"text-align: right;\">\n",
              "      <th></th>\n",
              "      <th>Accuracy</th>\n",
              "      <th>Percision</th>\n",
              "      <th>Recall</th>\n",
              "      <th>F1_score</th>\n",
              "      <th>class1_Accu</th>\n",
              "      <th>class2_Accu</th>\n",
              "      <th>class3_Accu</th>\n",
              "    </tr>\n",
              "  </thead>\n",
              "  <tbody>\n",
              "    <tr>\n",
              "      <th>ResNet</th>\n",
              "      <td>0.772727</td>\n",
              "      <td>0.821368</td>\n",
              "      <td>0.772727</td>\n",
              "      <td>0.754274</td>\n",
              "      <td>0.863636</td>\n",
              "      <td>0.454545</td>\n",
              "      <td>1.0</td>\n",
              "    </tr>\n",
              "  </tbody>\n",
              "</table>\n",
              "</div>"
            ],
            "text/plain": [
              "        Accuracy  Percision    Recall  ...  class1_Accu  class2_Accu  class3_Accu\n",
              "ResNet  0.772727   0.821368  0.772727  ...     0.863636     0.454545          1.0\n",
              "\n",
              "[1 rows x 7 columns]"
            ]
          },
          "metadata": {},
          "execution_count": 31
        }
      ]
    },
    {
      "cell_type": "code",
      "metadata": {
        "colab": {
          "base_uri": "https://localhost:8080/",
          "height": 540
        },
        "id": "Aoj9hUPyX_WP",
        "outputId": "d25b521f-7505-44ea-e1ae-0ac5bd68add0"
      },
      "source": [
        "def performanceROC(pathG,pathP):\n",
        "    GT=np.load(pathG)\n",
        "    Pred=np.load(pathP)\n",
        "    encoded_Gt = to_categorical(GT)\n",
        "    #Pred_arg=np.argmax(Pred,axis=1)\n",
        "    y_true=encoded_Gt.ravel()\n",
        "    \n",
        "    y_pred=Pred.ravel()\n",
        "    return y_true,y_pred\n",
        "\n",
        "\n",
        "\n",
        "y_true1,y_pred1=performanceROC(pathG,pathP)\n",
        "#y_true2,y_pred2=performanceROC(pathresultse,\"GT_Efficinet.npy\",\"y_pred_Efficinet.npy\")\n",
        "#y_true3,y_pred3=performanceROC(pathresultsv,\"GT_VGG11.npy\",\"y_pred_VGG11.npy\") \n",
        "#y_true4,y_pred4=performanceROC(pathresultss,\"GT_SENet.npy\",\"y_pred_SENet.npy\") \n",
        "#y_true5,y_pred5=performanceROC(pathresultsm,\"GT_MobileNet.npy\",\"y_pred_MobileNet.npy\") \n",
        "#y_true6,y_pred6=performanceROC(pathresultsm,\"GT_MobileNet.npy\",\"y_pred_MobileNet.npy\")\n",
        "\n",
        "def rocp(y_true, y_pred):\n",
        "    fpr, tpr, thresholds = roc_curve(y_true, y_pred)\n",
        "    au = auc(fpr, tpr)\n",
        "    return fpr, tpr, thresholds,au\n",
        "\n",
        "fpr1, tpr1, thresholds1,auc1=rocp(y_true1, y_pred1)\n",
        "#fpr2, tpr2, thresholds2,auc2=rocp(y_true2, y_pred2)\n",
        "#fpr3, tpr3, thresholds3,auc3=rocp(y_true3, y_pred3)\n",
        "#fpr4, tpr4, thresholds4,auc4=rocp(y_true4, y_pred4)\n",
        "#fpr5, tpr5, thresholds5,auc5=rocp(y_true5, y_pred5)\n",
        "#fpr6, tpr6, thresholds6,auc6=rocp(y_true6, y_pred6)\n",
        "\n",
        "plt.figure(1)\n",
        "fig,ax = plt.subplots(figsize=(12,8))\n",
        "ax.plot(fpr1, tpr1,color='red', linestyle='-', linewidth=4.0,label= 'ResNet18')\n",
        "\n",
        "#ax.plot(fpr2, tpr2,color='m',linestyle='--', linewidth=3.0,label= 'EfficientNet')\n",
        "#ax.plot(fpr3, tpr3,marker='o',color='orange', markersize=3,linestyle= '-', linewidth=3.0,label= 'VGG')\n",
        "#ax.plot(fpr4, tpr4,color='blue', linestyle='--',linewidth=3.0, label= 'SENET')\n",
        "#ax.plot(fpr5, tpr5,color='cyan', linestyle='-', linewidth=3.0,label= 'MobileNet')\n",
        "\n",
        "#ax.plot(fpr6, tpr6,color='green', linestyle='--',linewidth=3.0, label= 'Finetune_MobileNet')\n",
        "################# \n",
        "plt.xticks(np.arange(0.0, 1.1, step=0.1),fontsize=12,fontweight='bold')\n",
        "plt.xlabel('False Positve rate',fontsize=16,fontweight='bold')\n",
        "plt.yticks(np.arange(0.0, 1.1, step=0.1),fontsize=12,fontweight='bold')\n",
        "plt.ylabel('True Positive rate',fontsize=16,fontweight='bold')\n",
        "#plt.title('ROC curve')\n",
        "plt.title('ROC Curves', fontweight='bold', fontsize=16)\n",
        "plt.xlim([0,0.1])\n",
        "#plt.ylim([0,1.25])\n",
        "plt.legend(prop={'size':13}, loc='lower right',fontsize=16)\n",
        "#ax.legend(loc=\"bottom right\",fontweight='bold')\n",
        "plt.savefig('ResNet18.png',dpi=100)\n",
        "plt.savefig(\"test.svg\")"
      ],
      "execution_count": 33,
      "outputs": [
        {
          "output_type": "display_data",
          "data": {
            "text/plain": [
              "<Figure size 432x288 with 0 Axes>"
            ]
          },
          "metadata": {}
        },
        {
          "output_type": "display_data",
          "data": {
            "image/png": "[encoded data removed]",
            "text/plain": [
              "<Figure size 864x576 with 1 Axes>"
            ]
          },
          "metadata": {
            "needs_background": "light"
          }
        }
      ]
    },
    {
      "cell_type": "code",
      "metadata": {
        "colab": {
          "base_uri": "https://localhost:8080/",
          "height": 909
        },
        "id": "b3krU75JYsN4",
        "outputId": "bdf38ac2-945c-4f7c-af6c-09db4933a408"
      },
      "source": [
        "def performanceCM(pathG,pathP):\n",
        "    GT=np.load(pathG)\n",
        "    Pred=np.load(pathP)\n",
        "    #encoded_Gt = to_categorical(GT)\n",
        "    Pred_arg=np.argmax(Pred,axis=1)\n",
        "    y_true=GT\n",
        "    \n",
        "    y_pred=Pred_arg\n",
        "    return y_true,y_pred\n",
        "\n",
        "\n",
        "\n",
        "y_true1,y_pred1=performanceCM(pathG,pathP)\n",
        "\n",
        "\n",
        "\n",
        "# plot conum\n",
        "y_test=y_true1\n",
        "y_pred=y_pred1\n",
        "classes= ['class1','class2','class3']\n",
        "\n",
        "#Get the confusion matrix\n",
        "import matplotlib.pyplot as plt\n",
        "#cm = confusion_matrix(y_test3, y_pred2)\n",
        "from sklearn.metrics import confusion_matrix\n",
        "conf_mat = confusion_matrix(y_test, y_pred)\n",
        "import itertools\n",
        "# fontweight='bold'\n",
        "def plot_confusion_matrix(cm, classes,\n",
        "                          normalize=False,\n",
        "                          title='Confusion matrix',\n",
        "                          cmap=plt.cm.Reds):\n",
        "    \"\"\"\n",
        "    This function prints and plots the confusion matrix.\n",
        "    Normalization can be applied by setting `normalize=True`.\n",
        "    \"\"\"\n",
        "    plt.imshow(cm, interpolation='nearest', cmap=cmap)\n",
        "    plt.title(title,fontsize=17)\n",
        "    plt.colorbar()\n",
        "    tick_marks = np.arange(len(classes))\n",
        "    plt.xticks(tick_marks, classes, rotation=45,fontsize=13)\n",
        "    plt.yticks(tick_marks, classes,fontsize=13)\n",
        "\n",
        "    if normalize:\n",
        "        cm = cm.astype('float') / cm.sum(axis=1)[:, np.newaxis]\n",
        "        cm = cm.round(2)\n",
        "        #print(\"Normalized confusion matrix\")\n",
        "    else:\n",
        "        cm=cm\n",
        "        #print('Confusion matrix, without normalization')\n",
        "\n",
        "    #print(cm)\n",
        "\n",
        "    thresh = cm.max() / 2.\n",
        "    for i, j in itertools.product(range(cm.shape[0]), range(cm.shape[1])):\n",
        "        plt.text(j, i, cm[i, j],\n",
        "                 horizontalalignment=\"center\",\n",
        "                 color=\"white\" if cm[i, j] > thresh else \"black\",fontsize=15)\n",
        "\n",
        "    plt.tight_layout()\n",
        "    plt.ylabel('True label',fontsize=15)\n",
        "    plt.xlabel('Predicted label',fontsize=15)\n",
        "\n",
        "\n",
        "np.set_printoptions(precision=2)\n",
        "\n",
        "fig1 = plt.figure(figsize=(7,6))\n",
        "plot_confusion_matrix(conf_mat, classes=classes, title='Confusion matrix')\n",
        "#fig1.savefig('../cm_wo_norm.jpg')\n",
        "plt.show()\n",
        "\n",
        "np.set_printoptions(precision=2)\n",
        "\n",
        "fig2 = plt.figure(figsize=(7,6))\n",
        "plot_confusion_matrix(conf_mat, classes=classes, normalize = True, title='Normalized Confusion matrix')\n",
        "fig2.savefig('cm_norm.jpg')\n",
        "#plt.show()\n"
      ],
      "execution_count": 34,
      "outputs": [
        {
          "output_type": "display_data",
          "data": {
            "image/png": "[encoded data removed]",
            "text/plain": [
              "<Figure size 504x432 with 2 Axes>"
            ]
          },
          "metadata": {
            "needs_background": "light"
          }
        },
        {
          "output_type": "display_data",
          "data": {
            "image/png": "[encoded data removed]",
            "text/plain": [
              "<Figure size 504x432 with 2 Axes>"
            ]
          },
          "metadata": {
            "needs_background": "light"
          }
        }
      ]
    },
    {
      "cell_type": "code",
      "metadata": {
        "colab": {
          "base_uri": "https://localhost:8080/"
        },
        "id": "7HvsjXJsZDSO",
        "outputId": "8f621c42-014d-44a4-968a-3e7bab69b8d1"
      },
      "source": [
        "# Per-class accuracy\n",
        "class_accuracy=100*conf_mat.diagonal()/conf_mat.sum(1)\n",
        "print('Per class accuracy',class_accuracy)"
      ],
      "execution_count": 37,
      "outputs": [
        {
          "output_type": "stream",
          "name": "stdout",
          "text": [
            "Per class accuracy [ 86.36  45.45 100.  ]\n"
          ]
        }
      ]
    }
  ]
}